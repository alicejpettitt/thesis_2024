{
 "cells": [
  {
   "cell_type": "markdown",
   "id": "f0b2ad61-da74-4cae-bd73-ca093c7edadb",
   "metadata": {},
   "source": [
    "## This notebook is for assessing ORF6-CTR as a model system "
   ]
  },
  {
   "cell_type": "markdown",
   "id": "df1aca3b-9fad-4e20-b6b2-1691dff15b42",
   "metadata": {},
   "source": [
    "## Introduction \n",
    "\n",
    "This jupyter notebook contains sample code to analyse metadynamic simulations of the 61-residue ORF6 from SARS-CoV-2 in the `AMBER03ws` force field at 310 K. These simulations were performed using `GROMACS 2021.2` (1) patched with the `PLUMED` library `version 2.7.1` (2).\n",
    "\n",
    "Amino acid sequence: `SKSLTENKYSQLDEEQPMEID` from the trajectory of `MFHLVDFQVTIAEILLIIMRTFKVSIWNLDYIINLIIKNLSKSLTENKYSQLDEEQPMEID` \n",
    "\n",
    "## Preprocessing of the trajectories using GROMACS \n",
    "\n",
    "Partial trajectories for each replica were first concatenated using the `GROMACS` `gmx trjcat` command to obtain full trajectories per replica. \n",
    "\n",
    "Time-ordered trajectories from each replica were concatenated together to a single, large trajectory using the `GROMACS gmx trjcat` command. The `PLUMED driver` command was then used to recalcuate the weights on this large trajectory.\n",
    "\n",
    "The weights of frames in which the protein interacts with its periodic image have already been set to zero. These frames were identified using the `GROMACS gmx mindist` command. The cut-off for self-interaction was set to 1.2 nm for `AMBER03ws`. \n",
    "\n",
    "From the `AMBER03ws`trajectories, less than 1.2% of the ensemble (by metadynamics weight) were removed. \n",
    "\n",
    "We discard a total of 35% of the trajectory from the `AMBER03ws` trajectory for equilibration (see `Blocking analysis and equilibration of weights`)\n",
    "        \n",
    "Parts of the analysis code have been adapted from ref (3), GitHub: https://github.com/gthh2/amyloid-beta_small_mol/blob/master/Metadynamic_metainference/Analysis/Metadynamic_metainference_analysis.ipynb\n",
    "    \n",
    "<b> References <b> \n",
    "\n",
    "(1) Abraham MJ, Murtola T, Schulz R, Páll S, Smith JC, Hess B, Lindah E. 2015. GROMACS: High performance molecular simulations through multi-level parallelism from laptops to supercomputers. SoftwareX. 1–2:19–25. \n",
    "\n",
    "(2) Bonomi M, Bussi G, Camilloni C, Tribello GA, Banáš P, Barducci A, et al. 2019. Promoting transparency and reproducibility in enhanced molecular simulations. Nat Methods. 16:670–3.\n",
    "    \n",
    "(3) Heller GT, Aprile FA, Michaels TCT, Limbocker R, Perni M, Ruggeri FS, et al. 2020. Small-molecule sequestration of amyloid-β as a drug discovery strategy for Alzheimer’s disease. Sci Adv. 6."
   ]
  },
  {
   "cell_type": "markdown",
   "id": "6f9e954a-b92c-4676-a168-3335b9400cbe",
   "metadata": {},
   "source": [
    "## To set up \n",
    "Select CTR from the full-length trajectory using gromacs processing. \n",
    "\n",
    "Then just load this CTR trajectory into the notebook \n",
    "\n",
    "gmx trjconv -f ../traj_all-skip-4-noW-whole.trr -s ../../../orf6_protein/all-atom/a03ws/sims/7-npt-metad/r0/7-npt-metad.tpr -n ctr.ndx -o traj_all-skip-4-noW-whole-ctr.trr\n",
    "\n",
    "gmx trjconv -f ../traj_all-skip-4-noW-whole.trr -s ../../../orf6_protein/all-atom/a99sb/sims/7-npt-metad/r0/7-npt-metad.tpr -n ctr.ndx -o traj_all-skip-4-noW-whole-ctr.trr\n",
    "\n",
    "gmx trjconv -f ../traj_all-skip-6-noW-whole.trr -s ../../../orf6_protein/all-atom/c36m/sims/7-npt-metad/r0/7-npt-metad.tpr -n ctr.ndx -o traj_all-skip-6-noW-whole-ctr.trr\n"
   ]
  },
  {
   "cell_type": "markdown",
   "id": "1d0cf756-6d84-429e-8b0f-e2fa18905f91",
   "metadata": {},
   "source": [
    "## Setup the notebook "
   ]
  },
  {
   "cell_type": "code",
   "execution_count": 2,
   "id": "cea8fc5c-8c50-4376-a385-b2c39205d1ae",
   "metadata": {},
   "outputs": [],
   "source": [
    "#Import useful tools\n",
    "import mdtraj as md\n",
    "import numpy as np\n",
    "import matplotlib.colors as clr\n",
    "import pandas as pd\n",
    "from glob import glob\n",
    "from itertools import *\n",
    "import math\n",
    "from matplotlib.ticker import FormatStrFormatter\n",
    "from matplotlib.ticker import StrMethodFormatter\n",
    "import sys\n",
    "sys.path.append('..')\n",
    "import os \n",
    "from math import pi\n",
    "from scipy.optimize import curve_fit\n",
    "from scipy import stats\n",
    "from scipy.stats import norm\n",
    "from scipy.spatial import distance\n",
    "import lmfit\n",
    "from lmfit import Model\n",
    "import seaborn as sns\n",
    "import matplotlib.pyplot as plt; plt.rcdefaults()\n",
    "%matplotlib inline\n",
    "import warnings"
   ]
  },
  {
   "cell_type": "code",
   "execution_count": 3,
   "id": "8785a5f2-5dd0-43dc-bd10-9b7c9b497ec0",
   "metadata": {},
   "outputs": [],
   "source": [
    "# turn off future warnings \n",
    "warnings.simplefilter(action='ignore', category=FutureWarning)"
   ]
  },
  {
   "cell_type": "code",
   "execution_count": 4,
   "id": "20ae763e-07a5-4fa9-9ab1-1d1dcead5fa6",
   "metadata": {},
   "outputs": [],
   "source": [
    "#Define function to return the weighted average and standard deviation\n",
    "def weighted_avg_and_std(values, weights):\n",
    "    average = np.average(values, weights=weights)\n",
    "    variance = np.average((values-average)**2, weights=weights)\n",
    "    return (average, math.sqrt(variance))"
   ]
  },
  {
   "cell_type": "code",
   "execution_count": 5,
   "id": "93bda459-bf36-4634-aa37-5422b4990a4b",
   "metadata": {},
   "outputs": [],
   "source": [
    "#Define presets for plotting\n",
    "plt.rcParams['font.family'] = 'Arial'\n",
    "plt.rc('font', size=8)\n",
    "\n",
    "# force fields colours (a= simulation, b=reweighted for each force field) \n",
    "a_a03ws = (1,0.6471,0) #FFA500(255,165,0) \n",
    "b_a03ws = (0.6,0.39,0) #996300(153, 99, 0)\n",
    "a_a03ws_run2 = (0,0.8,0.8) #00cdcd(0,205,205)\n",
    "b_a03ws_run2 = (0,0.34,0.34) #005757(0,87,87)\n",
    "a_a99sb = (0.86,0.08,0.24) #dc143c(220,20,60)\n",
    "a_c36m = (0.39,0.58,0.93) #6495ED(100,149,237)\n",
    "b_c36m = (0.16,0.23,0.37) #283B5E(40,59,94)\n",
    "\n",
    "a_a03ws_fl = (0.48,0.51,1) #7a81ff 122, 129, 255 (full-length orf6)\n",
    "\n",
    "# C-alpha contacts map \n",
    "cmap_con_a03ws_calpha  = clr.LinearSegmentedColormap.from_list('name', ['w','grey',a_a03ws], N=256, gamma=1.0)\n",
    "cmap_con_a03ws_run2_calpha  = clr.LinearSegmentedColormap.from_list('name', ['w','grey',a_a03ws_run2], N=256, gamma=1.0)\n",
    "cmap_con_a99sb_calpha  = clr.LinearSegmentedColormap.from_list('name', ['w','grey',a_a99sb], N=256, gamma=1.0)\n",
    "cmap_con_c36m_calpha  = clr.LinearSegmentedColormap.from_list('name', ['w','grey',a_c36m], N=256, gamma=1.0)\n",
    "\n",
    "# C-alpha contacts map reweighted \n",
    "cmap_con_a03ws_rw_calpha  = clr.LinearSegmentedColormap.from_list('name', ['w','grey',b_a03ws], N=256, gamma=1.0)\n",
    "cmap_con_a03ws_run2_rw_calpha  = clr.LinearSegmentedColormap.from_list('name', ['w','grey',b_a03ws_run2], N=256, gamma=1.0)\n",
    "cmap_con_c36m_rw_calpha  = clr.LinearSegmentedColormap.from_list('name', ['w','grey',b_c36m], N=256, gamma=1.0)\n",
    "\n",
    "# define colours for cis and trans \n",
    "orf6_ctr_cis = (1, 0, 1) # ff00ff\n",
    "orf6_ctr_trans = (0.22,0.49,0.16) #rgb(55,126,34) green\n",
    "\n",
    "# Contacts map \n",
    "cmap_con_cis_calpha  = clr.LinearSegmentedColormap.from_list('name', ['w','grey',orf6_ctr_cis], N=256, gamma=1.0)\n",
    "cmap_con_trans_calpha  = clr.LinearSegmentedColormap.from_list('name', ['w','grey',orf6_ctr_trans], N=256, gamma=1.0)"
   ]
  },
  {
   "cell_type": "code",
   "execution_count": 6,
   "id": "3050c7dd-d73f-44b9-801d-4d79d04c51f3",
   "metadata": {},
   "outputs": [
    {
     "name": "stdout",
     "output_type": "stream",
     "text": [
      "a03ws kish: 24080.46397961272\n"
     ]
    }
   ],
   "source": [
    "# Load corrected metadynamics weights for full-length \n",
    "\n",
    "## Load corrected metadynamics weights \n",
    "w_a03ws_orf6 = np.loadtxt('Metadynamic_ORF6_full_length_simulations_Zenodo/weights_corr.dat')\n",
    "\n",
    "# normalise the weights \n",
    "w_a03ws_orf6 /= w_a03ws_orf6.sum() \n",
    "\n",
    "# Calculate the kish for each system (how many structures describe the ensemble) \n",
    "\n",
    "kish_a03ws_orf6 = ((w_a03ws_orf6.sum())*(w_a03ws_orf6.sum()))/((w_a03ws_orf6*w_a03ws_orf6).sum())\n",
    "print('a03ws kish:', kish_a03ws_orf6)"
   ]
  },
  {
   "cell_type": "code",
   "execution_count": 7,
   "id": "d8ba69c4-99c6-40c4-ab3c-16a686243194",
   "metadata": {},
   "outputs": [],
   "source": [
    "# Define number of replicas \n",
    "n_reps = 128"
   ]
  },
  {
   "cell_type": "code",
   "execution_count": 8,
   "id": "7d0d420f-fe12-4188-81c8-37ebae285bd7",
   "metadata": {},
   "outputs": [
    {
     "name": "stdout",
     "output_type": "stream",
     "text": [
      "check a03ws_orf6 weights: 1.000000000000011\n"
     ]
    }
   ],
   "source": [
    "#Given that the simulations is arranged as 128 time-ordered replicas\n",
    "# we split up the weights into 128 separate arrays\n",
    "\n",
    "## a03ws orf6 \n",
    "w_a03ws_orf6_split = np.split(w_a03ws_orf6, n_reps)\n",
    "# length of each replica \n",
    "length_w_a03ws_orf6=(len(w_a03ws_orf6)/n_reps) \n",
    "# Removing first 35% \n",
    "keep_w_a03ws_orf6 = np.floor((length_w_a03ws_orf6)*0.65) # Removing first 35% \n",
    "keep_w_a03ws_orf6\n",
    "for i in range(0, n_reps):\n",
    "    #Set first values in ORF6-CTR ensemble to zero \n",
    "    w_a03ws_orf6_split[i][0:(len(w_a03ws_orf6)/n_reps-keep_w_a03ws_orf6).astype(int)] = 0 \n",
    "#Concatenate the separate arrays again\n",
    "w_a03ws_orf6_eq = np.hstack(w_a03ws_orf6_split) \n",
    "#Renormalise metadynamics weights \n",
    "w_a03ws_orf6_eq /= w_a03ws_orf6_eq.sum() \n",
    "# print to check weights are normalised \n",
    "print('check a03ws_orf6 weights:', sum(w_a03ws_orf6_eq))"
   ]
  },
  {
   "cell_type": "markdown",
   "id": "aa2fa18a-2603-45e3-9802-e621bc74f182",
   "metadata": {},
   "source": [
    "## Load trajectories "
   ]
  },
  {
   "cell_type": "markdown",
   "id": "8948db7c-a253-49b8-96e4-1fd7ade241f6",
   "metadata": {},
   "source": [
    "Below is just the CTR (last 21 residues) of the full length metadynamic simulation \n",
    "- Need to update pdb"
   ]
  },
  {
   "cell_type": "code",
   "execution_count": 11,
   "id": "f108352a-9133-4694-af18-e340703c5738",
   "metadata": {},
   "outputs": [],
   "source": [
    "## Load trajectories\n",
    "t_a03ws_orf6 = md.load('Metadynamic_ORF6_full_length_simulations_Zenodo/traj_all-skip-4-noW-whole-ctr.trr', top='model_ctr/frame0.pdb')"
   ]
  },
  {
   "cell_type": "markdown",
   "id": "b6e65424-88c7-4815-b207-5d1b0767b0d3",
   "metadata": {},
   "source": [
    "## Load in the CTR data for comparison "
   ]
  },
  {
   "cell_type": "code",
   "execution_count": 15,
   "id": "d872a602-ec32-4229-ac08-1371f571d660",
   "metadata": {},
   "outputs": [],
   "source": [
    "## Load trajectories\n",
    "t_a03ws_run1 = md.load('Metadynamic_simulations_Zenodo/a03ws_run1_traj.trr', top='Metadynamic_simulations_Zenodo/a03ws.pdb')\n",
    "t_a03ws_run2 = md.load('Metadynamic_simulations_Zenodo/a03ws_run2_traj.trr', top='Metadynamic_simulations_Zenodo/a03ws.pdb')"
   ]
  },
  {
   "cell_type": "code",
   "execution_count": 16,
   "id": "1d9c49a6-0c5f-4600-b25a-6b7b8ccf314a",
   "metadata": {},
   "outputs": [
    {
     "name": "stdout",
     "output_type": "stream",
     "text": [
      "a03ws run1 kish: 33816.763095643284\n",
      "a03ws run2 kish: 35364.16560027782\n"
     ]
    }
   ],
   "source": [
    "## Load corrected metadynamics weights for CTR \n",
    "w_a03ws_run1 = np.loadtxt('Metadynamic_simulations_Zenodo/a03ws_run1_weights_corr.dat')\n",
    "w_a03ws_run2 = np.loadtxt('Metadynamic_simulations_Zenodo/a03ws_run2_weights_corr.dat')\n",
    "\n",
    "# normalise the weights \n",
    "w_a03ws_run1 /= w_a03ws_run1.sum() \n",
    "w_a03ws_run2 /= w_a03ws_run2.sum() \n",
    "\n",
    "# Calculate the kish for each system (how many structures describe the ensemble) \n",
    "\n",
    "kish_a03ws_run1 = ((w_a03ws_run1.sum())*(w_a03ws_run1.sum()))/((w_a03ws_run1*w_a03ws_run1).sum())\n",
    "print('a03ws run1 kish:', kish_a03ws_run1)\n",
    "\n",
    "kish_a03ws_run2 = ((w_a03ws_run2.sum())*(w_a03ws_run2.sum()))/((w_a03ws_run2*w_a03ws_run2).sum())\n",
    "print('a03ws run2 kish:', kish_a03ws_run2)"
   ]
  },
  {
   "cell_type": "code",
   "execution_count": 17,
   "id": "ec1efd53-6a2d-40ef-bfe5-829460b73261",
   "metadata": {},
   "outputs": [
    {
     "name": "stdout",
     "output_type": "stream",
     "text": [
      "check a03ws_run1 weights: 0.9999999999999956\n",
      "check a03ws_run2 weights: 0.9999999999999934\n"
     ]
    }
   ],
   "source": [
    "#Given that the simulations is arranged as 128 time-ordered replicas\n",
    "# we split up the weights into 128 separate arrays\n",
    "\n",
    "## a03ws run1 \n",
    "w_a03ws_run1_split = np.split(w_a03ws_run1, n_reps)\n",
    "# length of each replica \n",
    "length_w_a03ws_run1=(len(w_a03ws_run1)/n_reps) \n",
    "# Removing first 35% \n",
    "keep_w_a03ws_run1 = np.floor((length_w_a03ws_run1)*0.65) # Removing first 35% \n",
    "keep_w_a03ws_run1\n",
    "for i in range(0, n_reps):\n",
    "    #Set first values in ORF6-CTR ensemble to zero \n",
    "    w_a03ws_run1_split[i][0:(len(w_a03ws_run1)/n_reps-keep_w_a03ws_run1).astype(int)] = 0 \n",
    "#Concatenate the separate arrays again\n",
    "w_a03ws_run1_eq = np.hstack(w_a03ws_run1_split) \n",
    "#Renormalise metadynamics weights \n",
    "w_a03ws_run1_eq /= w_a03ws_run1_eq.sum() \n",
    "# print to check weights are normalised \n",
    "print('check a03ws_run1 weights:', sum(w_a03ws_run1_eq))\n",
    "\n",
    "## a03ws run2 \n",
    "w_a03ws_run2_split = np.split(w_a03ws_run2, n_reps)\n",
    "length_w_a03ws_run2=(len(w_a03ws_run2)/n_reps) \n",
    "keep_w_a03ws_run2 = np.floor((length_w_a03ws_run2)*0.65) # Removing first 35% \n",
    "keep_w_a03ws_run2\n",
    "for i in range(0, n_reps):\n",
    "    w_a03ws_run2_split[i][0:(len(w_a03ws_run2)/n_reps-keep_w_a03ws_run2).astype(int)] = 0 \n",
    "w_a03ws_run2_eq = np.hstack(w_a03ws_run2_split) \n",
    "w_a03ws_run2_eq /= w_a03ws_run2_eq.sum() \n",
    "print('check a03ws_run2 weights:', sum(w_a03ws_run2_eq))"
   ]
  },
  {
   "cell_type": "code",
   "execution_count": 18,
   "id": "9a96fb4c-c563-409a-8ce4-be8b9889ca72",
   "metadata": {},
   "outputs": [
    {
     "name": "stdout",
     "output_type": "stream",
     "text": [
      "a03ws kish after eq: 22022.236821220296\n",
      "a03ws_run2 kish after eq: 22795.379936748304\n"
     ]
    }
   ],
   "source": [
    "# Calculate the kish after equilibration \n",
    "\n",
    "# kish_a03ws run 1\n",
    "kish_a03ws_run1_eq = ((w_a03ws_run1_eq.sum())*(w_a03ws_run1_eq.sum()))/((w_a03ws_run1_eq*w_a03ws_run1_eq).sum())\n",
    "print('a03ws kish after eq:', kish_a03ws_run1_eq)\n",
    "\n",
    "# kish a03ws run2\n",
    "kish_a03ws_run2_eq = ((w_a03ws_run2_eq.sum())*(w_a03ws_run2_eq.sum()))/((w_a03ws_run2_eq*w_a03ws_run2_eq).sum())\n",
    "print('a03ws_run2 kish after eq:', kish_a03ws_run2_eq)"
   ]
  },
  {
   "cell_type": "markdown",
   "id": "44b00e54-a4ba-4489-99e1-6a51ec397ad8",
   "metadata": {},
   "source": [
    "## Split for error analysis "
   ]
  },
  {
   "cell_type": "code",
   "execution_count": 19,
   "id": "b351d79f-7ea7-41ed-9d11-cb50fde59745",
   "metadata": {},
   "outputs": [],
   "source": [
    "## a03ws run 1 \n",
    "\n",
    "start_a03ws_orf6 = (len(w_a03ws_orf6_eq)/n_reps-keep_w_a03ws_orf6).astype(int)\n",
    "end_a03ws_orf6 = int((len(w_a03ws_orf6_eq)/128))\n",
    "mid_a03ws_orf6 = (start_a03ws_orf6 + (end_a03ws_orf6-start_a03ws_orf6)/2).astype(int)\n",
    "\n",
    "#Reshape weights array to account for individual replicas\n",
    "w_a03ws_orf6_eq_reps = np.reshape(w_a03ws_orf6_eq.copy(), (n_reps, int(len(w_a03ws_orf6_eq)/n_reps), 1))\n",
    "\n",
    "#Make separate weight arrays for the first and second halves of the trajectory\n",
    "w_a03ws_orf6_eq_0 = w_a03ws_orf6_eq_reps.copy()[:, start_a03ws_orf6:mid_a03ws_orf6]\n",
    "w_a03ws_orf6_eq_1 = w_a03ws_orf6_eq_reps.copy()[:, mid_a03ws_orf6:end_a03ws_orf6]\n",
    "\n",
    "#Use this to determine effective weight of first and second halves of the trajectory\n",
    "sum_w_a03ws_orf6_eq_0 = w_a03ws_orf6_eq_0.sum()\n",
    "sum_w_a03ws_orf6_eq_1 = w_a03ws_orf6_eq_1.sum()\n",
    "\n",
    "#Normalise weights of first and second halves of the trajectory R\n",
    "w_a03ws_orf6_eq_0 /= w_a03ws_orf6_eq_0.sum()      \n",
    "w_a03ws_orf6_eq_1 /= w_a03ws_orf6_eq_1.sum() "
   ]
  },
  {
   "cell_type": "code",
   "execution_count": 20,
   "id": "ce676f63-024a-4c24-95ac-1043cb92472d",
   "metadata": {},
   "outputs": [],
   "source": [
    "## a03ws run 1 \n",
    "\n",
    "start_a03ws_run1 = (len(w_a03ws_run1_eq)/n_reps-keep_w_a03ws_run1).astype(int)\n",
    "end_a03ws_run1 = int((len(w_a03ws_run1_eq)/128))\n",
    "mid_a03ws_run1 = (start_a03ws_run1 + (end_a03ws_run1-start_a03ws_run1)/2).astype(int)\n",
    "\n",
    "#Reshape weights array to account for individual replicas\n",
    "w_a03ws_run1_eq_reps = np.reshape(w_a03ws_run1_eq.copy(), (n_reps, int(len(w_a03ws_run1_eq)/n_reps), 1))\n",
    "\n",
    "#Make separate weight arrays for the first and second halves of the trajectory\n",
    "w_a03ws_run1_eq_0 = w_a03ws_run1_eq_reps.copy()[:, start_a03ws_run1:mid_a03ws_run1]\n",
    "w_a03ws_run1_eq_1 = w_a03ws_run1_eq_reps.copy()[:, mid_a03ws_run1:end_a03ws_run1]\n",
    "\n",
    "#Use this to determine effective weight of first and second halves of the trajectory\n",
    "sum_w_a03ws_run1_eq_0 = w_a03ws_run1_eq_0.sum()\n",
    "sum_w_a03ws_run1_eq_1 = w_a03ws_run1_eq_1.sum()\n",
    "\n",
    "#Normalise weights of first and second halves of the trajectory R\n",
    "w_a03ws_run1_eq_0 /= w_a03ws_run1_eq_0.sum()      \n",
    "w_a03ws_run1_eq_1 /= w_a03ws_run1_eq_1.sum() "
   ]
  },
  {
   "cell_type": "code",
   "execution_count": 21,
   "id": "d606dcdd-ec7a-4a61-921a-ee156c079b25",
   "metadata": {},
   "outputs": [],
   "source": [
    "## a03ws run 2\n",
    "\n",
    "start_a03ws_run2 = (len(w_a03ws_run2_eq)/n_reps-keep_w_a03ws_run2).astype(int)\n",
    "end_a03ws_run2 = int((len(w_a03ws_run2_eq)/128))\n",
    "mid_a03ws_run2 = (start_a03ws_run2 + (end_a03ws_run2-start_a03ws_run2)/2).astype(int)\n",
    "\n",
    "#Reshape weights array to account for individual replicas\n",
    "w_a03ws_run2_eq_reps = np.reshape(w_a03ws_run2_eq.copy(), (n_reps, int(len(w_a03ws_run2_eq)/n_reps), 1))\n",
    "\n",
    "#Make separate weight arrays for the first and second halves of the trajectory\n",
    "w_a03ws_run2_eq_0 = w_a03ws_run2_eq_reps.copy()[:, start_a03ws_run2:mid_a03ws_run2]\n",
    "w_a03ws_run2_eq_1 = w_a03ws_run2_eq_reps.copy()[:, mid_a03ws_run2:end_a03ws_run2]\n",
    "\n",
    "#Use this to determine effective weight of first and second halves of the trajectory\n",
    "sum_w_a03ws_run2_eq_0 = w_a03ws_run2_eq_0.sum()\n",
    "sum_w_a03ws_run2_eq_1 = w_a03ws_run2_eq_1.sum()\n",
    "\n",
    "#Normalise weights of first and second halves of the trajectory \n",
    "w_a03ws_run2_eq_0 /= w_a03ws_run2_eq_0.sum()      \n",
    "w_a03ws_run2_eq_1 /= w_a03ws_run2_eq_1.sum() "
   ]
  },
  {
   "cell_type": "markdown",
   "id": "e6fb79be-1272-42c1-b7b1-102e1380376f",
   "metadata": {},
   "source": [
    "## CamShift analysis "
   ]
  },
  {
   "cell_type": "markdown",
   "id": "ae606ab7-2905-467b-aa7f-c505bcab5815",
   "metadata": {},
   "source": [
    "Removing K42, S43, L44, and T45 because they shift a bit - assumption later residues will not \n",
    "\n",
    "plumed driver --mf_trr traj_all-skip-4-noW-whole-ctr.trr --plumed camshift_plumed.dat"
   ]
  },
  {
   "cell_type": "code",
   "execution_count": 22,
   "id": "31c54b6e-3ccf-45ef-9588-273f3badb119",
   "metadata": {},
   "outputs": [],
   "source": [
    "#Define camshift errors (from reference (7))\n",
    "camshift_errs = {'ca': 1.3, 'cb': 1.36, 'ha': 0.28, 'hn': 0.56}"
   ]
  },
  {
   "cell_type": "code",
   "execution_count": 24,
   "id": "1d7ab870-e157-4b83-938d-5cb74e7374a1",
   "metadata": {},
   "outputs": [],
   "source": [
    "# Load in CAMSHIFT output for each system \n",
    "\n",
    "cs_a03ws_orf6 = pd.read_csv('model_ctr/CS_COLVAR', delim_whitespace=True, dtype=float, header=0)"
   ]
  },
  {
   "cell_type": "code",
   "execution_count": 25,
   "id": "57be56ed-be2b-4d6f-820f-65a46af65605",
   "metadata": {},
   "outputs": [],
   "source": [
    "# Define a dictionary for each residue \n",
    "\n",
    "cs_residues = {'ca': [46,47,48,49,50,51,52,53,54,55,56,57,58,59,60],\n",
    "               'cb': [46,47,48,49,50,52,53,54,55,58,59],\n",
    "               'ha': [46,47,48,49,50,51,52,53,54,55,56,57,58,59,60],\n",
    "               'hn': [46,47,48,49,50,51,52,53,54,55,56,58,59,60]\n",
    "}"
   ]
  },
  {
   "cell_type": "code",
   "execution_count": 26,
   "id": "bb61b4d8-4105-4b82-baa1-cf5c36d7bc46",
   "metadata": {},
   "outputs": [],
   "source": [
    "# Define experimental chemical shift data dictionary (same for each force field) \n",
    "\n",
    "data_dict = {\n",
    "             'ca': np.asarray(cs_a03ws_orf6.loc[:, 'cs.expca-0-6':'cs.expca-0-20']), \n",
    "             'cb': np.asarray(cs_a03ws_orf6.loc[:, 'cs.expcb-0-6':'cs.expcb-0-19']),\n",
    "             'ha': np.asarray(cs_a03ws_orf6.loc[:, 'cs.expha-0-6':'cs.expha-0-20']),\n",
    "             'hn': np.asarray(cs_a03ws_orf6.loc[:, 'cs.exphn-0-6':'cs.exphn-0-20']),\n",
    "}"
   ]
  },
  {
   "cell_type": "code",
   "execution_count": 27,
   "id": "467f0664-6e23-48d4-8996-92090ebb4b9d",
   "metadata": {},
   "outputs": [],
   "source": [
    "# Define predicted chemical shift data \n",
    "\n",
    "cs_a03ws_orf6_dict = {\n",
    "             'ca': np.asarray(cs_a03ws_orf6.loc[:, 'cs.ca-0-6':'cs.ca-0-20']), \n",
    "             'cb': np.asarray(cs_a03ws_orf6.loc[:, 'cs.cb-0-6':'cs.cb-0-19']),\n",
    "             'hn': np.asarray(cs_a03ws_orf6.loc[:, 'cs.hn-0-6':'cs.hn-0-20']), \n",
    "             'ha': np.asarray(cs_a03ws_orf6.loc[:, 'cs.ha-0-6':'cs.ha-0-20']),\n",
    "}"
   ]
  },
  {
   "cell_type": "code",
   "execution_count": 28,
   "id": "4a3bb5eb-1461-4edd-8961-bee6f2ddfdaa",
   "metadata": {},
   "outputs": [],
   "source": [
    "#Define empty dictionaries for a03ws orf6 \n",
    "cs_a03ws_orf6_reps = {} \n",
    "cs_a03ws_orf6_means = {}\n",
    "cs_a03ws_orf6_means_0 = {}\n",
    "cs_a03ws_orf6_means_1 = {}\n",
    "cs_a03ws_orf6_std = {}\n",
    "for k in cs_residues.keys():\n",
    "    #Reshape chemical shift arrays to account for individual replicas\n",
    "    cs_a03ws_orf6_reps[k] = np.reshape(cs_a03ws_orf6_dict[k], (n_reps, int(len(w_a03ws_orf6_eq)/n_reps), -1))\n",
    "    #Make dictionary containing means calculated over whole trajectory\n",
    "    cs_a03ws_orf6_means[k] = (w_a03ws_orf6_eq_reps*cs_a03ws_orf6_reps[k]).sum(tuple(j for j in (0, 1)))\n",
    "    #Make dictionary containing means calculated over first half of trajectory\n",
    "    cs_a03ws_orf6_means_0[k] = (cs_a03ws_orf6_reps[k][:, start_a03ws_orf6:mid_a03ws_orf6]*w_a03ws_orf6_eq_0).sum(tuple(j for j in (0, 1)))\n",
    "    #Make dictionary containing means calculated over second half of trajectory\n",
    "    cs_a03ws_orf6_means_1[k] = (cs_a03ws_orf6_reps[k][:, mid_a03ws_orf6:end_a03ws_orf6]*w_a03ws_orf6_eq_1).sum(tuple(j for j in (0, 1)))\n",
    "    #Make dictionary containing standard deviations calculated between first and second halves\n",
    "    cs_a03ws_orf6_std[k] = [weighted_avg_and_std([cs_a03ws_orf6_means_0[k][i], cs_a03ws_orf6_means_1[k][i]], [sum_w_a03ws_orf6_eq_0, sum_w_a03ws_orf6_eq_1])[1] for i in range(0, cs_a03ws_orf6_means_0[k].shape[0])]"
   ]
  },
  {
   "cell_type": "code",
   "execution_count": 29,
   "id": "bcd0ff37-6190-4feb-8f01-da86332281fe",
   "metadata": {},
   "outputs": [
    {
     "data": {
      "image/png": "[encoded data removed]",
      "text/plain": [
       "<Figure size 196.85x118.11 with 1 Axes>"
      ]
     },
     "metadata": {},
     "output_type": "display_data"
    },
    {
     "data": {
      "image/png": "[encoded data removed]",
      "text/plain": [
       "<Figure size 196.85x118.11 with 1 Axes>"
      ]
     },
     "metadata": {},
     "output_type": "display_data"
    },
    {
     "data": {
      "image/png": "[encoded data removed]",
      "text/plain": [
       "<Figure size 196.85x118.11 with 1 Axes>"
      ]
     },
     "metadata": {},
     "output_type": "display_data"
    },
    {
     "data": {
      "image/png": "[encoded data removed]",
      "text/plain": [
       "<Figure size 196.85x118.11 with 1 Axes>"
      ]
     },
     "metadata": {},
     "output_type": "display_data"
    }
   ],
   "source": [
    "## a03ws run 1 \n",
    "\n",
    "# Define atom labels \n",
    "atom_labels = {\n",
    "    'ha': r'$^1$H$\\mathrm{^\\alpha}$',\n",
    "    'hn': r'$^1$H$\\mathrm{^N}$',\n",
    "    'ca': r'$^{13}$C$\\mathrm{^\\alpha}$',\n",
    "    'cb': r'$^{13}$C$\\mathrm{^\\beta}$'\n",
    "}\n",
    "\n",
    "for k in cs_residues.keys():\n",
    "    fig = plt.figure()\n",
    "    ax = fig.add_subplot(111)\n",
    "    ax.errorbar(cs_residues[k], data_dict[k].mean(axis=0), yerr=np.full(len(cs_residues[k]), camshift_errs[k]), fmt='o', markersize='3', color='black', ecolor='silver')\n",
    "    ax.errorbar(cs_residues[k], cs_a03ws_orf6_means[k], yerr=cs_a03ws_orf6_std[k], fmt='o', markersize='3', ecolor=a_a03ws, elinewidth=1, color=a_a03ws_fl)\n",
    "    ax.set_xlabel(\"Residue number\")\n",
    "    ax.set_ylabel(\"{} (ppm)\".format(atom_labels[k]))\n",
    "    ax.spines['right'].set_visible(False)\n",
    "    ax.spines['top'].set_visible(False) \n",
    "    ax.yaxis.set_major_formatter(FormatStrFormatter('%.1f'))\n",
    "    ax.set_xticks(np.arange(41, 62, step=5));\n",
    "    \n",
    "    if k == 'hn': \n",
    "        ax.set_ylim(6, 10)\n",
    "        \n",
    "    if k == 'ha': \n",
    "        ax.set_ylim(3, 6)\n",
    "    \n",
    "    plt.gcf().set_size_inches(50/25.4,30/25.4)"
   ]
  },
  {
   "cell_type": "code",
   "execution_count": 30,
   "id": "6b9f04f0-06f6-4492-8d5a-1746f0c74b07",
   "metadata": {},
   "outputs": [
    {
     "name": "stdout",
     "output_type": "stream",
     "text": [
      "a03ws_orf6 rmsd: ca (0.6654138314822085, 0.011053712340208036)\n",
      "a03ws_orf6 rmsd: cb (0.4905720790095668, 0.0036494016455605304)\n",
      "a03ws_orf6 rmsd: ha (0.07357827279086847, 0.00045292091742959865)\n",
      "a03ws_orf6 rmsd: hn (0.13243258914505934, 0.004818406808471389)\n"
     ]
    }
   ],
   "source": [
    "# a03ws run 1 \n",
    "for k in cs_residues.keys():\n",
    "    rmsd_a03ws_orf6_0 = np.sqrt(((cs_a03ws_orf6_means_0[k] - data_dict[k]) ** 2).mean())\n",
    "    rmsd_a03ws_orf6_1 = np.sqrt(((cs_a03ws_orf6_means_1[k] - data_dict[k]) ** 2).mean())\n",
    "    err_a03ws_orf6_rmsd = weighted_avg_and_std([(rmsd_a03ws_orf6_0), (rmsd_a03ws_orf6_1)], [sum_w_a03ws_orf6_eq_0, sum_w_a03ws_orf6_eq_1])\n",
    "    print('a03ws_orf6 rmsd:', k, err_a03ws_orf6_rmsd)"
   ]
  },
  {
   "cell_type": "code",
   "execution_count": 31,
   "id": "82ff3904-2c40-41f5-8b81-ad11d08e355d",
   "metadata": {},
   "outputs": [],
   "source": [
    "#Remove ACE group from NAc-ORF6-CTR\n",
    "t_a03ws_run1_no_ACE = t_a03ws_run1.atom_slice(t_a03ws_run1.top.select('not resid 0'))\n",
    "t_a03ws_run2_no_ACE = t_a03ws_run2.atom_slice(t_a03ws_run2.top.select('not resid 0'))"
   ]
  },
  {
   "cell_type": "markdown",
   "id": "fd0d27d4-626d-4526-ac36-1dcc4e607a4f",
   "metadata": {},
   "source": [
    "## Radius of gyration "
   ]
  },
  {
   "cell_type": "code",
   "execution_count": 32,
   "id": "c7562d77-0d33-4509-be3e-172b2b9427fe",
   "metadata": {},
   "outputs": [],
   "source": [
    "#Calculate radius of gyration on all atoms \n",
    "masses_a03ws_orf6= np.array([a.element.mass for a in t_a03ws_orf6.top.atoms])\n",
    "rg_a03ws_orf6= md.compute_rg(t_a03ws_orf6, masses=masses_a03ws_orf6)"
   ]
  },
  {
   "cell_type": "markdown",
   "id": "eb3e5daf-b67b-4cf7-a0ad-ea410ac0d2a7",
   "metadata": {},
   "source": [
    "Divide the Rg into two halves for convergence analysis "
   ]
  },
  {
   "cell_type": "code",
   "execution_count": 33,
   "id": "469027e0-823b-47d7-b822-b8b6e0572a43",
   "metadata": {},
   "outputs": [],
   "source": [
    "# a03ws full length \n",
    "rg_a03ws_orf6_reps = np.reshape(rg_a03ws_orf6, (n_reps, int(len(w_a03ws_orf6_eq)/n_reps), 1))\n",
    "rg_a03ws_orf6_0 = rg_a03ws_orf6_reps.copy()[:, start_a03ws_orf6:mid_a03ws_orf6]\n",
    "rg_a03ws_orf6_1 = rg_a03ws_orf6_reps.copy()[:, mid_a03ws_orf6:end_a03ws_orf6]\n",
    "err_rg_a03ws_orf6 = weighted_avg_and_std([(rg_a03ws_orf6_0*w_a03ws_orf6_eq_0).sum(), (rg_a03ws_orf6_1*w_a03ws_orf6_eq_1).sum()], [sum_w_a03ws_orf6_eq_0, sum_w_a03ws_orf6_eq_1])[1]"
   ]
  },
  {
   "cell_type": "code",
   "execution_count": 34,
   "id": "5e1695a8-3635-4fb1-83bb-5d255fa4fb32",
   "metadata": {},
   "outputs": [],
   "source": [
    "#Calculate radius of gyration on all atoms \n",
    "masses_a03ws_run1_no_ACE= np.array([a.element.mass for a in t_a03ws_run1_no_ACE.top.atoms])\n",
    "rg_a03ws_run1_no_ACE = md.compute_rg(t_a03ws_run1_no_ACE, masses=masses_a03ws_run1_no_ACE)\n",
    "\n",
    "#Calculate radius of gyration on all atoms \n",
    "masses_a03ws_run2_no_ACE= np.array([a.element.mass for a in t_a03ws_run2_no_ACE.top.atoms])\n",
    "rg_a03ws_run2_no_ACE = md.compute_rg(t_a03ws_run2_no_ACE, masses=masses_a03ws_run2_no_ACE)"
   ]
  },
  {
   "cell_type": "code",
   "execution_count": 35,
   "id": "62e5455a-5e3e-4d2e-ba84-5ce25c2b3540",
   "metadata": {},
   "outputs": [],
   "source": [
    "# a03ws run 1 \n",
    "rg_a03ws_run1_reps_no_ACE = np.reshape(rg_a03ws_run1_no_ACE, (n_reps, int(len(w_a03ws_run1_eq)/n_reps), 1))\n",
    "rg_a03ws_run1_0_no_ACE = rg_a03ws_run1_reps_no_ACE.copy()[:, start_a03ws_run1:mid_a03ws_run1]\n",
    "rg_a03ws_run1_1_no_ACE = rg_a03ws_run1_reps_no_ACE.copy()[:, mid_a03ws_run1:end_a03ws_run1]\n",
    "err_rg_a03ws_run1_no_ACE = weighted_avg_and_std([(rg_a03ws_run1_0_no_ACE*w_a03ws_run1_eq_0).sum(), (rg_a03ws_run1_1_no_ACE*w_a03ws_run1_eq_1).sum()], [sum_w_a03ws_run1_eq_0, sum_w_a03ws_run1_eq_1])[1]"
   ]
  },
  {
   "cell_type": "code",
   "execution_count": 36,
   "id": "31d9e809-46e2-4ce3-8727-3e3d559c0f00",
   "metadata": {},
   "outputs": [],
   "source": [
    "# a03ws run 2\n",
    "rg_a03ws_run2_reps_no_ACE = np.reshape(rg_a03ws_run2_no_ACE, (n_reps, int(len(w_a03ws_run2_eq)/n_reps), 1))\n",
    "rg_a03ws_run2_0_no_ACE = rg_a03ws_run2_reps_no_ACE.copy()[:, start_a03ws_run2:mid_a03ws_run2]\n",
    "rg_a03ws_run2_1_no_ACE = rg_a03ws_run2_reps_no_ACE.copy()[:, mid_a03ws_run2:end_a03ws_run2]\n",
    "err_rg_a03ws_run2_no_ACE = weighted_avg_and_std([(rg_a03ws_run2_0_no_ACE*w_a03ws_run2_eq_0).sum(), (rg_a03ws_run2_1_no_ACE*w_a03ws_run2_eq_1).sum()], [sum_w_a03ws_run2_eq_0, sum_w_a03ws_run2_eq_1])[1]"
   ]
  },
  {
   "cell_type": "code",
   "execution_count": 37,
   "id": "50ffb7f2-969c-401d-a9b1-44cf86aeab3b",
   "metadata": {},
   "outputs": [
    {
     "name": "stdout",
     "output_type": "stream",
     "text": [
      "The average radius of gyration for a03ws ORF6 CTR is  1.1687 +/- 0.00987\n",
      "The average radius of gyration for a03ws run1 ORF6 CTR without ACE is  1.18344 +/- 0.00201\n",
      "The average radius of gyration for a03ws run2 ORF6 CTR without ACE is  1.17958 +/- 0.00192\n"
     ]
    }
   ],
   "source": [
    "# simulation Rg\n",
    "print('The average radius of gyration for a03ws ORF6 CTR is ', round((rg_a03ws_orf6 * w_a03ws_orf6_eq).sum(), 5), '+/-', round(err_rg_a03ws_orf6, 5))\n",
    "\n",
    "print('The average radius of gyration for a03ws run1 ORF6 CTR without ACE is ', round((rg_a03ws_run1_no_ACE * w_a03ws_run1_eq).sum(), 5), '+/-', round(err_rg_a03ws_run1_no_ACE, 5)) \n",
    "print('The average radius of gyration for a03ws run2 ORF6 CTR without ACE is ', round((rg_a03ws_run2_no_ACE * w_a03ws_run2_eq).sum(), 5), '+/-', round(err_rg_a03ws_run2_no_ACE, 5)) "
   ]
  },
  {
   "cell_type": "code",
   "execution_count": 38,
   "id": "c3e13027-54bd-45a3-88e2-c1e954f3b1a0",
   "metadata": {},
   "outputs": [
    {
     "data": {
      "image/png": "[encoded data removed]",
      "text/plain": [
       "<Figure size 393.701x236.22 with 1 Axes>"
      ]
     },
     "metadata": {},
     "output_type": "display_data"
    }
   ],
   "source": [
    "# All 3 simulation ensembles (only a03ws run 1) \n",
    "\n",
    "fig, ax = plt.subplots(figsize=(2, 2))\n",
    "\n",
    "sns.kdeplot(x=rg_a03ws_orf6, fill='True', color=a_a03ws_fl, weights=w_a03ws_orf6_eq, zorder=1, linewidth=1)\n",
    "sns.kdeplot(x=rg_a03ws_run1_no_ACE, fill='True', color=a_a03ws, weights=w_a03ws_run1_eq, zorder=1, linewidth=1)\n",
    "\n",
    "ax.vlines((rg_a03ws_orf6 * w_a03ws_orf6_eq).sum(), 0, 3, color=a_a03ws_fl, linewidth=1,zorder=0)\n",
    "ax.axvspan((rg_a03ws_orf6*w_a03ws_orf6_eq).sum()+err_rg_a03ws_orf6,(rg_a03ws_orf6*w_a03ws_orf6_eq).sum()-err_rg_a03ws_orf6, 0, 3, facecolor=a_a03ws_fl, alpha=0.4,zorder=0) \n",
    "\n",
    "ax.vlines((rg_a03ws_run1_no_ACE * w_a03ws_run1_eq).sum(), 0, 3, color=a_a03ws, linewidth=1,zorder=0)\n",
    "ax.axvspan((rg_a03ws_run1_no_ACE*w_a03ws_run1_eq).sum()+err_rg_a03ws_run1_no_ACE,(rg_a03ws_run1_no_ACE*w_a03ws_run1_eq).sum()-err_rg_a03ws_run1_no_ACE, 0, 3, facecolor=a_a03ws, alpha=0.4,zorder=0) \n",
    "\n",
    "ax.set_xlabel(r\"$\\mathbf{\\mathit{R}}_{\\mathrm{g}}$ (nm)\")\n",
    "ax.set_ylabel(\"Probability density\")\n",
    "\n",
    "ax.spines['right'].set_visible(False)\n",
    "ax.spines['top'].set_visible(False)\n",
    "ax.set_ylim(0,3)\n",
    "\n",
    "plt.gcf().set_size_inches(100/25.4, 60/25.4)"
   ]
  },
  {
   "cell_type": "code",
   "execution_count": 39,
   "id": "5a48e560-f748-4587-b1d1-d1ff6ef01418",
   "metadata": {},
   "outputs": [],
   "source": [
    "## DSSP analysis "
   ]
  },
  {
   "cell_type": "code",
   "execution_count": 40,
   "id": "f50c0fa1-b402-431c-b5ad-117103c31c33",
   "metadata": {},
   "outputs": [],
   "source": [
    "orf6_resid = np.arange(41,62)"
   ]
  },
  {
   "cell_type": "code",
   "execution_count": 41,
   "id": "2ea6ba35-4acd-47b1-93e0-820f767f2f24",
   "metadata": {},
   "outputs": [],
   "source": [
    "# dssp for ctr from full-length\n",
    "\n",
    "dssp_a03ws_orf6 = md.compute_dssp(t_a03ws_orf6, simplified=True)\n",
    "\n",
    "# Set values to 1 for coil\n",
    "coil_a03ws_orf6 = np.zeros_like(dssp_a03ws_orf6, dtype=int)\n",
    "# Set the elements to 1 where dssp_a03ws_run1_rw is 'C'\n",
    "coil_a03ws_orf6[dssp_a03ws_orf6 == 'C'] = 1\n",
    "\n",
    "# Set values to 1 for strand\n",
    "strand_a03ws_orf6 = np.zeros_like(dssp_a03ws_orf6, dtype=int)\n",
    "# Set the elements to 1 where dssp_a03ws_run1_rw is 'E'\n",
    "strand_a03ws_orf6[dssp_a03ws_orf6 == 'E'] = 1\n",
    "\n",
    "# Set values to 1 for helix\n",
    "helix_a03ws_orf6 = np.zeros_like(dssp_a03ws_orf6, dtype=int)\n",
    "# Set the elements to 1 where dssp_a03ws_run1_rw is 'H'\n",
    "helix_a03ws_orf6[dssp_a03ws_orf6 == 'H'] = 1\n",
    "\n",
    "avg_coil_a03ws_orf6 = np.zeros((21), dtype=object)\n",
    "\n",
    "for i in range(0, 21):\n",
    "    avg_coil_a03ws_orf6[i] = (coil_a03ws_orf6[:, i] * w_a03ws_orf6_eq).sum()\n",
    "    \n",
    "avg_strand_a03ws_orf6 = np.zeros((21), dtype=object)\n",
    "\n",
    "for i in range(0, 21):\n",
    "    avg_strand_a03ws_orf6[i] = (strand_a03ws_orf6[:, i] * w_a03ws_orf6_eq).sum()\n",
    "    \n",
    "avg_helix_a03ws_orf6 = np.zeros((21), dtype=object)\n",
    "\n",
    "for i in range(0, 21):\n",
    "    avg_helix_a03ws_orf6[i] = (helix_a03ws_orf6[:, i] * w_a03ws_orf6_eq).sum()\n",
    "    \n",
    "# Split traj for coil, helix and strand \n",
    "coil_a03ws_orf6_reps = np.reshape(coil_a03ws_orf6, (n_reps, int(len(w_a03ws_orf6)/n_reps), 21))\n",
    "coil_a03ws_orf6_0 = coil_a03ws_orf6_reps.copy()[:, start_a03ws_orf6:mid_a03ws_orf6]\n",
    "coil_a03ws_orf6_1 = coil_a03ws_orf6_reps.copy()[:, mid_a03ws_orf6:end_a03ws_orf6]\n",
    "\n",
    "# Split traj for helix, helix and strand \n",
    "helix_a03ws_orf6_reps = np.reshape(helix_a03ws_orf6, (n_reps, int(len(w_a03ws_orf6)/n_reps), 21))\n",
    "helix_a03ws_orf6_0 = helix_a03ws_orf6_reps.copy()[:, start_a03ws_orf6:mid_a03ws_orf6]\n",
    "helix_a03ws_orf6_1 = helix_a03ws_orf6_reps.copy()[:, mid_a03ws_orf6:end_a03ws_orf6]\n",
    "\n",
    "# Split traj for strand, strand and strand \n",
    "strand_a03ws_orf6_reps = np.reshape(strand_a03ws_orf6, (n_reps, int(len(w_a03ws_orf6)/n_reps), 21))\n",
    "strand_a03ws_orf6_0 = strand_a03ws_orf6_reps.copy()[:, start_a03ws_orf6:mid_a03ws_orf6]\n",
    "strand_a03ws_orf6_1 = strand_a03ws_orf6_reps.copy()[:, mid_a03ws_orf6:end_a03ws_orf6]\n",
    "\n",
    "err_coil_a03ws_orf6 = np.zeros(21)\n",
    "\n",
    "for i in range(0,21):\n",
    "    coil_a03ws_orf6_tuple = weighted_avg_and_std([\n",
    "        (coil_a03ws_orf6_0[:, :, i][:, :, np.newaxis] * w_a03ws_orf6_eq_0).sum(),\n",
    "        (coil_a03ws_orf6_1[:, :, i][:, :, np.newaxis] * w_a03ws_orf6_eq_1).sum()\n",
    "    ], [sum_w_a03ws_orf6_eq_0, sum_w_a03ws_orf6_eq_1])\n",
    "    \n",
    "    # Extract the relevant value from the result tuple\n",
    "    coil_a03ws_orf6_result = coil_a03ws_orf6_tuple[1]  \n",
    "    \n",
    "    err_coil_a03ws_orf6[i] = coil_a03ws_orf6_result\n",
    "    \n",
    "err_helix_a03ws_orf6 = np.zeros(21)\n",
    "\n",
    "for i in range(0,21):\n",
    "    helix_a03ws_orf6_tuple = weighted_avg_and_std([\n",
    "        (helix_a03ws_orf6_0[:, :, i][:, :, np.newaxis] * w_a03ws_orf6_eq_0).sum(),\n",
    "        (helix_a03ws_orf6_1[:, :, i][:, :, np.newaxis] * w_a03ws_orf6_eq_1).sum()\n",
    "    ], [sum_w_a03ws_orf6_eq_0, sum_w_a03ws_orf6_eq_1])\n",
    "    \n",
    "    # Extract the relevant value from the result tuple\n",
    "    helix_a03ws_orf6_result = helix_a03ws_orf6_tuple[1]  \n",
    "    \n",
    "    err_helix_a03ws_orf6[i] = helix_a03ws_orf6_result\n",
    "    \n",
    "err_strand_a03ws_orf6 = np.zeros(21)\n",
    "\n",
    "for i in range(0,21):\n",
    "    strand_a03ws_orf6_tuple = weighted_avg_and_std([\n",
    "        (strand_a03ws_orf6_0[:, :, i][:, :, np.newaxis] * w_a03ws_orf6_eq_0).sum(),\n",
    "        (strand_a03ws_orf6_1[:, :, i][:, :, np.newaxis] * w_a03ws_orf6_eq_1).sum()\n",
    "    ], [sum_w_a03ws_orf6_eq_0, sum_w_a03ws_orf6_eq_1])\n",
    "    \n",
    "    # Extract the relevant value from the result tuple\n",
    "    strand_a03ws_orf6_result = strand_a03ws_orf6_tuple[1]  \n",
    "    \n",
    "    err_strand_a03ws_orf6[i] = strand_a03ws_orf6_result"
   ]
  },
  {
   "cell_type": "code",
   "execution_count": 42,
   "id": "9ad20703-eb7f-4029-80ae-09ab384a9cc9",
   "metadata": {},
   "outputs": [],
   "source": [
    "# dssp for ctr from full-length (excluding the ACE here)\n",
    "\n",
    "dssp_a03ws_run1 = md.compute_dssp(t_a03ws_run1_no_ACE, simplified=True)\n",
    "\n",
    "# Set values to 1 for coil\n",
    "coil_a03ws_run1 = np.zeros_like(dssp_a03ws_run1, dtype=int)\n",
    "# Set the elements to 1 where dssp_a03ws_run1_rw is 'C'\n",
    "coil_a03ws_run1[dssp_a03ws_run1 == 'C'] = 1\n",
    "\n",
    "# Set values to 1 for strand\n",
    "strand_a03ws_run1 = np.zeros_like(dssp_a03ws_run1, dtype=int)\n",
    "# Set the elements to 1 where dssp_a03ws_run1_rw is 'E'\n",
    "strand_a03ws_run1[dssp_a03ws_run1 == 'E'] = 1\n",
    "\n",
    "# Set values to 1 for helix\n",
    "helix_a03ws_run1 = np.zeros_like(dssp_a03ws_run1, dtype=int)\n",
    "# Set the elements to 1 where dssp_a03ws_run1_rw is 'H'\n",
    "helix_a03ws_run1[dssp_a03ws_run1 == 'H'] = 1\n",
    "\n",
    "avg_coil_a03ws_run1 = np.zeros((21), dtype=object)\n",
    "\n",
    "for i in range(0, 21):\n",
    "    avg_coil_a03ws_run1[i] = (coil_a03ws_run1[:, i] * w_a03ws_run1_eq).sum()\n",
    "    \n",
    "avg_strand_a03ws_run1 = np.zeros((21), dtype=object)\n",
    "\n",
    "for i in range(0, 21):\n",
    "    avg_strand_a03ws_run1[i] = (strand_a03ws_run1[:, i] * w_a03ws_run1_eq).sum()\n",
    "    \n",
    "avg_helix_a03ws_run1 = np.zeros((21), dtype=object)\n",
    "\n",
    "for i in range(0, 21):\n",
    "    avg_helix_a03ws_run1[i] = (helix_a03ws_run1[:, i] * w_a03ws_run1_eq).sum()\n",
    "    \n",
    "# Split traj for coil, helix and strand \n",
    "coil_a03ws_run1_reps = np.reshape(coil_a03ws_run1, (n_reps, int(len(w_a03ws_run1)/n_reps), 21))\n",
    "coil_a03ws_run1_0 = coil_a03ws_run1_reps.copy()[:, start_a03ws_run1:mid_a03ws_run1]\n",
    "coil_a03ws_run1_1 = coil_a03ws_run1_reps.copy()[:, mid_a03ws_run1:end_a03ws_run1]\n",
    "\n",
    "# Split traj for helix, helix and strand \n",
    "helix_a03ws_run1_reps = np.reshape(helix_a03ws_run1, (n_reps, int(len(w_a03ws_run1)/n_reps), 21))\n",
    "helix_a03ws_run1_0 = helix_a03ws_run1_reps.copy()[:, start_a03ws_run1:mid_a03ws_run1]\n",
    "helix_a03ws_run1_1 = helix_a03ws_run1_reps.copy()[:, mid_a03ws_run1:end_a03ws_run1]\n",
    "\n",
    "# Split traj for strand, strand and strand \n",
    "strand_a03ws_run1_reps = np.reshape(strand_a03ws_run1, (n_reps, int(len(w_a03ws_run1)/n_reps), 21))\n",
    "strand_a03ws_run1_0 = strand_a03ws_run1_reps.copy()[:, start_a03ws_run1:mid_a03ws_run1]\n",
    "strand_a03ws_run1_1 = strand_a03ws_run1_reps.copy()[:, mid_a03ws_run1:end_a03ws_run1]\n",
    "\n",
    "err_coil_a03ws_run1 = np.zeros(21)\n",
    "\n",
    "for i in range(0,21):\n",
    "    coil_a03ws_run1_tuple = weighted_avg_and_std([\n",
    "        (coil_a03ws_run1_0[:, :, i][:, :, np.newaxis] * w_a03ws_run1_eq_0).sum(),\n",
    "        (coil_a03ws_run1_1[:, :, i][:, :, np.newaxis] * w_a03ws_run1_eq_1).sum()\n",
    "    ], [sum_w_a03ws_run1_eq_0, sum_w_a03ws_run1_eq_1])\n",
    "    \n",
    "    # Extract the relevant value from the result tuple\n",
    "    coil_a03ws_run1_result = coil_a03ws_run1_tuple[1]  \n",
    "    \n",
    "    err_coil_a03ws_run1[i] = coil_a03ws_run1_result\n",
    "    \n",
    "err_helix_a03ws_run1 = np.zeros(21)\n",
    "\n",
    "for i in range(0,21):\n",
    "    helix_a03ws_run1_tuple = weighted_avg_and_std([\n",
    "        (helix_a03ws_run1_0[:, :, i][:, :, np.newaxis] * w_a03ws_run1_eq_0).sum(),\n",
    "        (helix_a03ws_run1_1[:, :, i][:, :, np.newaxis] * w_a03ws_run1_eq_1).sum()\n",
    "    ], [sum_w_a03ws_run1_eq_0, sum_w_a03ws_run1_eq_1])\n",
    "    \n",
    "    # Extract the relevant value from the result tuple\n",
    "    helix_a03ws_run1_result = helix_a03ws_run1_tuple[1]  \n",
    "    \n",
    "    err_helix_a03ws_run1[i] = helix_a03ws_run1_result\n",
    "    \n",
    "err_strand_a03ws_run1 = np.zeros(21)\n",
    "\n",
    "for i in range(0,21):\n",
    "    strand_a03ws_run1_tuple = weighted_avg_and_std([\n",
    "        (strand_a03ws_run1_0[:, :, i][:, :, np.newaxis] * w_a03ws_run1_eq_0).sum(),\n",
    "        (strand_a03ws_run1_1[:, :, i][:, :, np.newaxis] * w_a03ws_run1_eq_1).sum()\n",
    "    ], [sum_w_a03ws_run1_eq_0, sum_w_a03ws_run1_eq_1])\n",
    "    \n",
    "    # Extract the relevant value from the result tuple\n",
    "    strand_a03ws_run1_result = strand_a03ws_run1_tuple[1]  \n",
    "    \n",
    "    err_strand_a03ws_run1[i] = strand_a03ws_run1_result"
   ]
  },
  {
   "cell_type": "code",
   "execution_count": 43,
   "id": "0cb265b4-43d5-4189-94df-091ebc0fee86",
   "metadata": {},
   "outputs": [],
   "source": [
    "# Define the width of the bars\n",
    "width = 0.35"
   ]
  },
  {
   "cell_type": "code",
   "execution_count": 44,
   "id": "96ff6147-cd77-4520-a756-cb2bcbdb7a46",
   "metadata": {},
   "outputs": [
    {
     "data": {
      "image/png": "[encoded data removed]",
      "text/plain": [
       "<Figure size 314.961x118.11 with 1 Axes>"
      ]
     },
     "metadata": {},
     "output_type": "display_data"
    }
   ],
   "source": [
    "# Set the figure size in millimeters\n",
    "fig, ax = plt.subplots(figsize=(80/25.4,30/25.4))  # 1 inch = 25.4 mm\n",
    "\n",
    "# Plot orf6 from full length \n",
    "ax.bar(orf6_resid - width/2, avg_coil_a03ws_orf6, width, color=a_a03ws_fl,linewidth=1,yerr=err_coil_a03ws_orf6)\n",
    "\n",
    "# Plot ctr without ACE\n",
    "ax.bar(orf6_resid + width/2, avg_coil_a03ws_run1, width, color=a_a03ws,linewidth=1,yerr=err_coil_a03ws_run1)\n",
    "\n",
    "# Set the x-axis labels\n",
    "ax.set_xticks([40,45,50,55,60])\n",
    "ax.set_yticks([0.0,0.5,1])\n",
    "\n",
    "ax.set_ylim(0,1.1)\n",
    "ax.set_xlim(40,62)\n",
    "\n",
    "# Remove top and right spines\n",
    "ax.spines['top'].set_visible(False)\n",
    "ax.spines['right'].set_visible(False)"
   ]
  },
  {
   "cell_type": "code",
   "execution_count": 48,
   "id": "6688650c-a1bf-4056-93f0-7502e3202af7",
   "metadata": {},
   "outputs": [
    {
     "data": {
      "image/png": "[encoded data removed]",
      "text/plain": [
       "<Figure size 314.961x118.11 with 1 Axes>"
      ]
     },
     "metadata": {},
     "output_type": "display_data"
    }
   ],
   "source": [
    "# Set the figure size in millimeters\n",
    "fig, ax = plt.subplots(figsize=(80/25.4,30/25.4))  # 1 inch = 25.4 mm\n",
    "\n",
    "# Plot orf6 from full length \n",
    "ax.bar(orf6_resid - width/2, avg_helix_a03ws_orf6, width, color=a_a03ws_fl,linewidth=1,yerr=err_helix_a03ws_orf6)\n",
    "\n",
    "# Plot ctr without ACE\n",
    "ax.bar(orf6_resid + width/2, avg_helix_a03ws_run1, width, color=a_a03ws,linewidth=1,yerr=err_helix_a03ws_run1)\n",
    "\n",
    "# Set the x-axis labels\n",
    "ax.set_xticks([40,45,50,55,60])\n",
    "ax.set_yticks([0.0,0.5,1])\n",
    "\n",
    "ax.set_ylim(0,1.1)\n",
    "ax.set_xlim(40,62)\n",
    "\n",
    "# Remove top and right spines\n",
    "ax.spines['top'].set_visible(False)\n",
    "ax.spines['right'].set_visible(False)"
   ]
  },
  {
   "cell_type": "code",
   "execution_count": 49,
   "id": "ebc2ad09-25a2-437a-9ec8-0dc0ad013172",
   "metadata": {},
   "outputs": [
    {
     "data": {
      "image/png": "[encoded data removed]",
      "text/plain": [
       "<Figure size 314.961x118.11 with 1 Axes>"
      ]
     },
     "metadata": {},
     "output_type": "display_data"
    }
   ],
   "source": [
    "# Define the width of the bars\n",
    "width = 0.35\n",
    "\n",
    "# Set the figure size in millimeters\n",
    "fig, ax = plt.subplots(figsize=(80/25.4,30/25.4))  # 1 inch = 25.4 mm\n",
    "\n",
    "# Plot orf6 from full length \n",
    "ax.bar(orf6_resid - width/2, avg_strand_a03ws_orf6, width, color=a_a03ws_fl,linewidth=1,yerr=err_strand_a03ws_orf6)\n",
    "\n",
    "# Plot ctr without ACE\n",
    "ax.bar(orf6_resid + width/2, avg_strand_a03ws_run1, width, color=a_a03ws,linewidth=1,yerr=err_strand_a03ws_run1)\n",
    "\n",
    "# Set the x-axis labels\n",
    "ax.set_xticks([40,45,50,55,60])\n",
    "ax.set_yticks([0.0,0.5,1])\n",
    "\n",
    "ax.set_ylim(0,1.1)\n",
    "ax.set_xlim(40,62)\n",
    "\n",
    "# Remove top and right spines\n",
    "ax.spines['top'].set_visible(False)\n",
    "ax.spines['right'].set_visible(False)"
   ]
  },
  {
   "cell_type": "code",
   "execution_count": 47,
   "id": "f05e1883-8cf6-42ad-95c6-07d432fcc047",
   "metadata": {},
   "outputs": [],
   "source": [
    "## The End !!"
   ]
  },
  {
   "cell_type": "code",
   "execution_count": null,
   "id": "1dd2d5c8-2281-4de0-b4b8-24f48a110130",
   "metadata": {},
   "outputs": [],
   "source": []
  }
 ],
 "metadata": {
  "kernelspec": {
   "display_name": "Python 3 (ipykernel)",
   "language": "python",
   "name": "python3"
  },
  "language_info": {
   "codemirror_mode": {
    "name": "ipython",
    "version": 3
   },
   "file_extension": ".py",
   "mimetype": "text/x-python",
   "name": "python",
   "nbconvert_exporter": "python",
   "pygments_lexer": "ipython3",
   "version": "3.12.2"
  }
 },
 "nbformat": 4,
 "nbformat_minor": 5
}
