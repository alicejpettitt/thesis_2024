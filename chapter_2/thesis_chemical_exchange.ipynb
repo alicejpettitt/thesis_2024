{
 "cells": [
  {
   "cell_type": "markdown",
   "metadata": {},
   "source": [
    "## Chemical exchange plot for 90 and 10% populations "
   ]
  },
  {
   "cell_type": "markdown",
   "metadata": {},
   "source": [
    "Adapted using the Javascript code from https://www.karamanoslab.com/nmr-animations\n",
    "\n",
    "Also see: http://baldwinlab.chem.ox.ac.uk/resources/pramodhNotes.pdf"
   ]
  },
  {
   "cell_type": "code",
   "execution_count": 9,
   "metadata": {},
   "outputs": [],
   "source": [
    "# Import useful things \n",
    "\n",
    "import numpy as np\n",
    "import matplotlib.pyplot as plt\n",
    "import scipy.linalg"
   ]
  },
  {
   "cell_type": "code",
   "execution_count": 10,
   "metadata": {},
   "outputs": [],
   "source": [
    "# Parameters (Nitrogen dimension)\n",
    "\n",
    "Wa = 73200  # Chemical shift of state A in Hz \n",
    "R2a = 2.3   # Relaxation rate for state A (1/T2 in Hz)\n",
    "R2b = 2.2   # Relaxation rate for state B (1/T2 in Hz)\n",
    "Pb = 0.9   # Population fraction of state B\n",
    "dW = 1800  # Chemical shift difference between states A and B (Hz)\n",
    "line_broadening = 5   # Line broadening (Hz) \n",
    "num_points = 1024 \n",
    "sweep_width = 12300 # Spectral width in Hz\n",
    "Acq = num_points / sweep_width # Acquisition time in seconds"
   ]
  },
  {
   "cell_type": "code",
   "execution_count": 11,
   "metadata": {},
   "outputs": [],
   "source": [
    "# Time and frequency arrays\n",
    "time = np.linspace(0, Acq, num_points)\n",
    "frequency = np.linspace(-sweep_width / 2, sweep_width / 2, num_points)"
   ]
  },
  {
   "cell_type": "code",
   "execution_count": 12,
   "metadata": {},
   "outputs": [],
   "source": [
    "# Define the McConnell 2-state function\n",
    "def McConnell_2_state_model(R2a, R2b, kab, kba, Wa, Wb):\n",
    "    Wa = Wa * 2 * np.pi # Convert to radians \n",
    "    Wb = Wb * 2 * np.pi # Convert to radians \n",
    "    P = np.array([\n",
    "        [R2a + kab, Wa, -kba, 0],\n",
    "        [-Wa, R2a + kab, 0, -kba],\n",
    "        [-kab, 0, R2b + kba, Wb],\n",
    "        [0, -kab, -Wb, R2b + kba]\n",
    "    ])\n",
    "    return -P"
   ]
  },
  {
   "cell_type": "code",
   "execution_count": 13,
   "metadata": {},
   "outputs": [],
   "source": [
    "# Define the simulation function\n",
    "def kex_simulation(R2a, R2b, kex, Pb, dW):\n",
    "    timedomain = []\n",
    "    Pa = 1.0 - Pb\n",
    "    kba = Pa * kex # Rate constant for transition from state B to A\n",
    "    kab = Pb * kex # Rate constant for transition from state A to B\n",
    "    Wb = Wa + dW # Calculate chemical shift of state B in Hz by taking state A + the difference \n",
    "    M0 = np.array([Pa, 0, Pb, 0]) # Initial magnetisation vector (based on population of two states)\n",
    "\n",
    "    for tp in time:\n",
    "        L = McConnell_2_state_model(R2a, R2b, kab, kba, Wa, Wb)\n",
    "        M = scipy.linalg.expm(L * tp).dot(M0)\n",
    "        timedomain.append(M[0] + 1j * M[1] + M[2] + 1j * M[3]) \n",
    "    \n",
    "    timedomain = np.array(timedomain)\n",
    "    LB = np.exp(-time * line_broadening)  # Apply line broadening (simulate effect of finite instrument resolution)\n",
    "    fid = timedomain * LB # Free induction decay \n",
    "    ft = np.fft.fft(fid) # Fourier transform \n",
    "    ft_real = np.fft.fftshift(ft.real)\n",
    "    return ft_real # Returns the real part \n"
   ]
  },
  {
   "cell_type": "code",
   "execution_count": 14,
   "metadata": {},
   "outputs": [],
   "source": [
    "# Define kex values for plotting\n",
    "kex_values = np.logspace(np.log10(1e5), np.log10(1e-1), 7) "
   ]
  },
  {
   "cell_type": "code",
   "execution_count": 34,
   "metadata": {},
   "outputs": [
    {
     "data": {
      "image/png": "[encoded data removed]",
      "text/plain": [
       "<Figure size 198.425x396.85 with 7 Axes>"
      ]
     },
     "metadata": {
      "needs_background": "light"
     },
     "output_type": "display_data"
    }
   ],
   "source": [
    "# Plotting\n",
    "fig, axes = plt.subplots(\n",
    "    len(kex_values), \n",
    "    1, \n",
    "    figsize=(70/25.4, 20/25.4 * len(kex_values)),  # Set size in inches (width, height)\n",
    "    sharex=True\n",
    ")\n",
    "\n",
    "for i, kex in enumerate(kex_values):\n",
    "    ax = axes[i]\n",
    "    y = kex_simulation(R2a, R2b, kex, Pb, dW)\n",
    "    ax.plot(frequency, y, label=f'kex = {kex:.1e} s⁻¹', color='black')\n",
    "\n",
    "    # Remove everything except the line plot and the legend\n",
    "    ax.spines['top'].set_visible(False)\n",
    "    ax.spines['right'].set_visible(False)\n",
    "    ax.spines['left'].set_visible(False)\n",
    "    ax.spines['bottom'].set_visible(False)\n",
    "    ax.set_xlim(-1800, 1800)\n",
    "\n",
    "    ax.get_xaxis().set_visible(False)  # Hide x-axis\n",
    "    ax.get_yaxis().set_visible(False)  # Hide y-axis\n",
    "\n",
    "plt.tight_layout()\n",
    "plt.savefig('chem_ex_90.pdf', format='pdf', dpi=2000, transparent=True, bbox_inches='tight')\n"
   ]
  },
  {
   "cell_type": "code",
   "execution_count": 37,
   "metadata": {},
   "outputs": [
    {
     "data": {
      "image/png": "[encoded data removed]",
      "text/plain": [
       "<Figure size 198.425x396.85 with 7 Axes>"
      ]
     },
     "metadata": {
      "needs_background": "light"
     },
     "output_type": "display_data"
    }
   ],
   "source": [
    "# Define rainbow colours\n",
    "rainbow_colours = ['red', 'orange', 'gold', 'green', 'blue', 'indigo', 'violet']\n",
    "\n",
    "# Plotting\n",
    "fig, axes = plt.subplots(\n",
    "    len(kex_values), \n",
    "    1, \n",
    "    figsize=(70/25.4, 20/25.4 * len(kex_values)),  # Set size in inches (width, height)\n",
    "    sharex=True\n",
    ")\n",
    "\n",
    "for i, kex in enumerate(kex_values):\n",
    "    ax = axes[i]\n",
    "    y = kex_simulation(R2a, R2b, kex, Pb, dW)\n",
    "    color = rainbow_colours[i % len(rainbow_colours)]  # Cycle through rainbow colors\n",
    "    ax.plot(frequency, y, label=f'kex = {kex:.1e} s⁻¹', color=color)\n",
    "\n",
    "    # Remove everything except the line plot and the legend\n",
    "    ax.spines['top'].set_visible(False)\n",
    "    ax.spines['right'].set_visible(False)\n",
    "    ax.spines['left'].set_visible(False)\n",
    "    ax.spines['bottom'].set_visible(False)\n",
    "    ax.set_xlim(-1800, 1800)\n",
    "\n",
    "    ax.get_xaxis().set_visible(False)  # Hide x-axis\n",
    "    ax.get_yaxis().set_visible(False)  # Hide y-axis\n",
    "\n",
    "plt.tight_layout()\n",
    "plt.savefig('chem_ex_90.pdf', format='pdf', dpi=2000, transparent=True, bbox_inches='tight')"
   ]
  },
  {
   "cell_type": "code",
   "execution_count": null,
   "metadata": {},
   "outputs": [],
   "source": []
  }
 ],
 "metadata": {
  "kernelspec": {
   "display_name": "Python 3",
   "language": "python",
   "name": "python3"
  },
  "language_info": {
   "codemirror_mode": {
    "name": "ipython",
    "version": 3
   },
   "file_extension": ".py",
   "mimetype": "text/x-python",
   "name": "python",
   "nbconvert_exporter": "python",
   "pygments_lexer": "ipython3",
   "version": "3.7.10"
  }
 },
 "nbformat": 4,
 "nbformat_minor": 4
}
