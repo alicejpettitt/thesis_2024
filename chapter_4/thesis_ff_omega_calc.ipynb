{
 "cells": [
  {
   "cell_type": "markdown",
   "metadata": {},
   "source": [
    "## Torsion potential energy of the a03ws and C36m force fields as a function of the omega angle."
   ]
  },
  {
   "cell_type": "code",
   "execution_count": 2,
   "metadata": {},
   "outputs": [],
   "source": [
    "# Import useful things \n",
    "\n",
    "import numpy as np\n",
    "import matplotlib.pyplot as plt"
   ]
  },
  {
   "cell_type": "code",
   "execution_count": 3,
   "metadata": {},
   "outputs": [],
   "source": [
    "# force fields colours (a= simulation, b=reweighted for each force field) \n",
    "a_a03ws = (1,0.6471,0) #FFA500(255,165,0) \n",
    "b_a03ws = (0.6,0.39,0) #996300(153, 99, 0)\n",
    "a_a03ws_run2 = (0,0.8,0.8) #00cdcd(0,205,205)\n",
    "b_a03ws_run2 = (0,0.34,0.34) #005757(0,87,87)\n",
    "a_a99sb = (0.86,0.08,0.24) #dc143c(220,20,60)\n",
    "a_c36m = (0.39,0.58,0.93) #6495ED(100,149,237)\n",
    "b_c36m = (0.16,0.23,0.37) #283B5E(40,59,94)"
   ]
  },
  {
   "cell_type": "code",
   "execution_count": 4,
   "metadata": {},
   "outputs": [],
   "source": [
    "# Set the font to Arial\n",
    "plt.rcParams['font.family'] = 'Arial'\n",
    "plt.rc('font', size=8)"
   ]
  },
  {
   "cell_type": "markdown",
   "metadata": {},
   "source": [
    "Taken from ffbonded.itp file for each force field \n",
    "\n",
    "a03ws:  X   C   N   X     9     180.0     10.46000     2  ; AA,NMA\n",
    "\n",
    "a99sb: same as a03ws\n",
    "\n",
    "C36m:  CT1        C        N      CP1     9   180.000000    11.506000     2\n",
    "\n",
    "Assuming \n",
    "\n",
    "http://archive.ambermd.org/201510/0079.html (1/2 term in AMBER dihedral angle is accounted for in the constant)"
   ]
  },
  {
   "cell_type": "code",
   "execution_count": 6,
   "metadata": {},
   "outputs": [],
   "source": [
    "# Define the range of omega angles from -180 to +180\n",
    "omega_values = np.linspace(-180, 180, 1000)\n",
    "\n",
    "# Define the energy function\n",
    "a03ws = 10.46 * (1 + np.cos(2 * np.radians(omega_values) - np.radians(180)))\n",
    "a99sb = 10.46 * (1 + np.cos(2 * np.radians(omega_values) - np.radians(180)))\n",
    "c36m = 11.56 * (1 + np.cos(2 * np.radians(omega_values) - np.radians(180)))"
   ]
  },
  {
   "cell_type": "code",
   "execution_count": 7,
   "metadata": {},
   "outputs": [
    {
     "data": {
      "image/png": "[encoded data removed]",
      "text/plain": [
       "<Figure size 283.465x141.732 with 1 Axes>"
      ]
     },
     "metadata": {
      "needs_background": "light"
     },
     "output_type": "display_data"
    }
   ],
   "source": [
    "import matplotlib.pyplot as plt\n",
    "\n",
    "# Set the figure size in millimeters\n",
    "fig, ax = plt.subplots(figsize=(100/25.4, 50/25.4))  # Convert mm to inches (1 inch = 25.4 mm)\n",
    "\n",
    "# Convert to kj/mol\n",
    "\n",
    "# Plot the data using the axes object\n",
    "ax.plot(omega_values, a03ws*4.184, color=a_a03ws)\n",
    "# ax.plot(omega_values, a99sb, color=a_a99sb)\n",
    "ax.plot(omega_values, c36m*4.184, color=a_c36m)\n",
    "\n",
    "# Set the labels for the axes\n",
    "ax.set_xlabel('Omega (degrees)')\n",
    "ax.set_ylabel('Energy')\n",
    "\n",
    "# Set the x-axis range from -180 to +180 degrees\n",
    "ax.set_xlim(-190, 190)\n",
    "\n",
    "# Remove top and right spines\n",
    "ax.spines['top'].set_visible(False)\n",
    "ax.spines['right'].set_visible(False)\n",
    "\n",
    "# Set x-ticks from -180 to 180 at intervals of 30 degrees\n",
    "ax.set_xticks(range(-180, 181, 60))\n",
    "\n",
    "# Save the figure\n",
    "plt.savefig('ff_energy.pdf', format='pdf', dpi=2000, transparent=True, bbox_inches='tight')\n"
   ]
  }
 ],
 "metadata": {
  "kernelspec": {
   "display_name": "Python 3",
   "language": "python",
   "name": "python3"
  },
  "language_info": {
   "codemirror_mode": {
    "name": "ipython",
    "version": 3
   },
   "file_extension": ".py",
   "mimetype": "text/x-python",
   "name": "python",
   "nbconvert_exporter": "python",
   "pygments_lexer": "ipython3",
   "version": "3.8.5"
  }
 },
 "nbformat": 4,
 "nbformat_minor": 4
}
