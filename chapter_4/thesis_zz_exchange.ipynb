{
 "cells": [
  {
   "cell_type": "markdown",
   "metadata": {},
   "source": [
    "## Simulated ZZ-exchange cross-peak intensity as a function of the exchange rate "
   ]
  },
  {
   "cell_type": "code",
   "execution_count": 57,
   "metadata": {},
   "outputs": [],
   "source": [
    "# Import useful things \n",
    "\n",
    "import numpy as np\n",
    "import matplotlib.pyplot as plt"
   ]
  },
  {
   "cell_type": "code",
   "execution_count": 58,
   "metadata": {},
   "outputs": [],
   "source": [
    "# Set the font to Arial\n",
    "plt.rcParams['font.family'] = 'Arial'\n",
    "plt.rc('font', size=8)"
   ]
  },
  {
   "cell_type": "markdown",
   "metadata": {},
   "source": [
    "## Equation\n",
    "\n",
    "The cross-peak intensity can be calculated using the following formula:\n",
    "\n",
    "$$\n",
    "I_{AB} = \\frac{k_{ex} \\cdot T_1}{1 + (k_{ex} \\cdot T_1)^2}\n",
    "$$\n",
    "\n",
    "where:\n",
    "- I_AB is the cross-peak for cis/trans isomerisation, where A is the cis state and B is the trans state \n",
    "- k_ex is the exchange rate \n",
    "- T_1 is the longitudinal relaxation time - this was determined 0.7 seconds for both cis-P57 and trans-P57 in the ORF6-CTR\n",
    "(see https://github.com/alicejpettitt/orf6-ctr_cis_trans_conformers/blob/master/NMR/ORF6-CTR-NMR-ANALYSIS.ipynb)\n"
   ]
  },
  {
   "cell_type": "code",
   "execution_count": 59,
   "metadata": {},
   "outputs": [],
   "source": [
    "# Longitudinal relaxation time in seconds at 600 MHz\n",
    "T1 = 0.7  \n",
    "\n",
    "# Exchange rates spanning ZZ-exchange range (typically )\n",
    "exchange_rates = np.logspace(-2, 2, num=100)  # from 0.01 to 100 s^-1\n",
    "\n",
    "# Calculate exchange cross-peak intensities using the simplified model\n",
    "cross_peak_intensities = (exchange_rates * T1) / (1 + (exchange_rates * T1)**2)\n"
   ]
  },
  {
   "cell_type": "code",
   "execution_count": 60,
   "metadata": {},
   "outputs": [
    {
     "data": {
      "image/png": "[encoded data removed]",
      "text/plain": [
       "<Figure size 283.465x141.732 with 1 Axes>"
      ]
     },
     "metadata": {
      "needs_background": "light"
     },
     "output_type": "display_data"
    }
   ],
   "source": [
    "# Set the figure size in millimeters\n",
    "fig, ax = plt.subplots(figsize=(100/25.4,50/25.4))  # 1 inch = 25.4 mm\n",
    "\n",
    "# Make the plot \n",
    "\n",
    "plt.plot(exchange_rates, cross_peak_intensities, linestyle='-', color='black')\n",
    "plt.xscale('log')  # Logarithmic scale for the x-axis\n",
    "plt.xlabel('Exchange Rate (k_ex) [s^-1]')\n",
    "plt.ylabel('Cross-Peak Intensity (a.u.)')\n",
    "# Remove top and right spines\n",
    "plt.gca().spines['top'].set_visible(False)\n",
    "plt.gca().spines['right'].set_visible(False)\n",
    "\n",
    "plt.savefig('zz_sim.pdf', format='pdf', dpi=2000, transparent=True,bbox_inches='tight')"
   ]
  },
  {
   "cell_type": "code",
   "execution_count": null,
   "metadata": {},
   "outputs": [],
   "source": []
  }
 ],
 "metadata": {
  "kernelspec": {
   "display_name": "Python 3",
   "language": "python",
   "name": "python3"
  },
  "language_info": {
   "codemirror_mode": {
    "name": "ipython",
    "version": 3
   },
   "file_extension": ".py",
   "mimetype": "text/x-python",
   "name": "python",
   "nbconvert_exporter": "python",
   "pygments_lexer": "ipython3",
   "version": "3.8.5"
  }
 },
 "nbformat": 4,
 "nbformat_minor": 5
}
